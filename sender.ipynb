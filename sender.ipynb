{
 "cells": [
  {
   "cell_type": "code",
   "execution_count": 1,
   "metadata": {
    "collapsed": true
   },
   "outputs": [],
   "source": [
    "%matplotlib tk\n",
    "from Tkinter import *\n",
    "import tkFileDialog\n",
    "from PIL import Image\n",
    "from PIL import ImageStat\n",
    "from PIL import ImageFilter\n",
    "import numpy as np\n",
    "import socket\n",
    "import time\n",
    "import StringIO\n",
    "\n",
    "#open file dialog\n",
    "def openImage(initialdir):\n",
    "    root = Tk()\n",
    "    root.withdraw()\n",
    "    filename = tkFileDialog.askopenfilename(initialdir='demo_images/')\n",
    "    return filename\n",
    "#convert filepath into real string vectors can be send to feature receiver\n",
    "def filepathToString(filepath):\n",
    "    binSize = 16\n",
    "    im = Image.open(filepath)\n",
    "    size = im.size\n",
    "    t = size[0]*size[1]\n",
    "    #size0 is width,y.size1 is height x\n",
    "    im = im.filter(ImageFilter.SMOOTH)\n",
    "    #convert to RGB channels\n",
    "    l1,l2,l3 = im.split()\n",
    "    l1 = np.array(l1.getdata())\n",
    "    l2 = np.array(l2.getdata())\n",
    "    l3 = np.array(l3.getdata())\n",
    "    #the order is R/G/B\n",
    "    pixels = zip(l1,l2,l3)\n",
    "    digit = 256/binSize\n",
    "    histogram = np.zeros(digit**3)\n",
    "    for pixel in pixels:\n",
    "        hundredth = int(pixel[2]/binSize)\n",
    "        tenth = int(pixel[1]/binSize)\n",
    "        numth = int(pixel[0]/binSize)\n",
    "        order = hundredth*(digit**2)+tenth*digit+numth\n",
    "        histogram[order] += 1\n",
    "    s = ''\n",
    "    for i,j in enumerate(histogram):\n",
    "        if j!=0:\n",
    "            s += (str(i) + ':' + str(j/float(np.prod(size))) +',')\n",
    "    return s\n",
    "\n",
    "#test for send image data to feature receiver\n",
    "def serverSender(host='localhost',port=9999):\n",
    "    while True:\n",
    "        try:\n",
    "            serverSocket = socket.socket(socket.AF_INET,socket.SOCK_STREAM)\n",
    "            serverSocket.bind((host,port))\n",
    "            serverSocket.listen(1)\n",
    "            try:\n",
    "                while True:\n",
    "                    connection,address = serverSocket.accept()\n",
    "                    connection.settimeout(10000)\n",
    "                    while True:\n",
    "                        path = openImage('images/')\n",
    "                        if path!='':\n",
    "                            data = filepathToString(path)\n",
    "                            try:\n",
    "                                #send the original image name\n",
    "                                imageName = path.split('/')[-1]\n",
    "                                print connection.send( imageName + '\\t' + data +'\\n')\n",
    "                                buf = connection.recv(128)\n",
    "                                if buf!='':\n",
    "                                    #here we need to take over wrong input, right now just ignore this\n",
    "                                    buf = StringIO.StringIO(buf)\n",
    "                                    buf.read(2)\n",
    "                                    buf = buf.read()\n",
    "                                    print \"get \" + buf\n",
    "                                else:\n",
    "                                    break\n",
    "                                time.sleep(2)\n",
    "                            except Exception,e:\n",
    "                                print 'exception 1'\n",
    "                                print str(e)\n",
    "                        else:\n",
    "                            print \"waiting for next query\"\n",
    "                            time.sleep(2)\n",
    "            except socket.timeout:\n",
    "                print 'timeout'\n",
    "            except socket.error,e:\n",
    "                print e\n",
    "                print \"socket ends from other side\"\n",
    "                #right now, not handling errors\n",
    "                pass\n",
    "            except KeyboardInterrupt:\n",
    "                print \"catch keyinterp???\"\n",
    "            finally:\n",
    "                print \"finnally 1\"\n",
    "                connection.close()\n",
    "                serverSocket.close()\n",
    "                break\n",
    "        except KeyboardInterrupt:\n",
    "            print \"catch keyinterp???\"\n",
    "            serverSocket.close()\n",
    "            break\n",
    "        finally:\n",
    "            print \"finally 2\"\n",
    "            serverSocket.close()"
   ]
  },
  {
   "cell_type": "code",
   "execution_count": 2,
   "metadata": {
    "collapsed": false
   },
   "outputs": [
    {
     "name": "stdout",
     "output_type": "stream",
     "text": [
      "7597\n",
      "get 0121.tif received\n",
      "6445\n",
      "get 1437.jpg received\n",
      "catch keyinterp???\n",
      "finnally 1\n",
      "finally 2\n"
     ]
    }
   ],
   "source": [
    "serverSender()"
   ]
  },
  {
   "cell_type": "code",
   "execution_count": null,
   "metadata": {
    "collapsed": true
   },
   "outputs": [],
   "source": []
  }
 ],
 "metadata": {
  "kernelspec": {
   "display_name": "Python 2",
   "language": "python",
   "name": "python2"
  },
  "language_info": {
   "codemirror_mode": {
    "name": "ipython",
    "version": 2
   },
   "file_extension": ".py",
   "mimetype": "text/x-python",
   "name": "python",
   "nbconvert_exporter": "python",
   "pygments_lexer": "ipython2",
   "version": "2.7.11"
  }
 },
 "nbformat": 4,
 "nbformat_minor": 0
}
